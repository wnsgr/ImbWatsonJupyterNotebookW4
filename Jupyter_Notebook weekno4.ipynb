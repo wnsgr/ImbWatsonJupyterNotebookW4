{
 "cells": [
  {
   "cell_type": "markdown",
   "metadata": {},
   "source": [
    "<h1>My Jupyter Notebook on IBM Watson</h1>"
   ]
  },
  {
   "cell_type": "markdown",
   "metadata": {},
   "source": [
    "<b>Dimitrios Karamatzianis</b>\n",
    "<br>Data science trainee"
   ]
  },
  {
   "cell_type": "markdown",
   "metadata": {},
   "source": [
    "<em>I am interested in data science because I can use it to find a solution in many problems and help people and my community to overcome and build a better future</em>"
   ]
  },
  {
   "cell_type": "markdown",
   "metadata": {},
   "source": [
    "<h3>We will calculate the Sum of the following numbers: 3x11 plus 3x12 plus 3x15 plus 11 and print the result </h3>"
   ]
  },
  {
   "cell_type": "code",
   "execution_count": 1,
   "metadata": {},
   "outputs": [
    {
     "name": "stdout",
     "output_type": "stream",
     "text": [
      "We will calculate the Sum of the following numbers: 3x11 plus 3x12 plus 3x15 plus 11, the result are:\n",
      "125\n"
     ]
    }
   ],
   "source": [
    "a = 3\n",
    "print(\"We will calculate the Sum of the following numbers: 3x11 plus 3x12 plus 3x15 plus 11, the result are:\")\n",
    "r = a * 11 + a * 12 + a * 15 + 11\n",
    "print(r)"
   ]
  },
  {
   "cell_type": "markdown",
   "metadata": {},
   "source": [
    "<hr>\n",
    "<ul>\n",
    "  <li>Data</li>\n",
    "  <li>Science </li>\n",
    "  <li>Tools</li>\n",
    "</ul>\n",
    "<ol>\n",
    "  <li>DATA</li>\n",
    "  <li>SCIENCE</li>\n",
    "  <li>TOOLS</li>\n",
    "</ol>\n",
    "<table>\n",
    "  <tr>\n",
    "    <th>Company</th>\n",
    "    <th>Contact</th>\n",
    "    <th>Country</th>\n",
    "  </tr>\n",
    "     <tr>\n",
    "    <td>Company2</td>\n",
    "    <td>Contact2</td>\n",
    "    <td>Country2</td>\n",
    "  </tr>\n",
    " </table>\n",
    " <a href=https://www.webstore.gr>My Website</a>\n",
    " <img src=\"https://1.cms.s81c.com/sites/default/files/2019-01/HC-1306_Modeler-Stream.jpg\" alt=\"Ibm SPSS Modeler Stream\" width=\"100%\" height=\"500\">\n",
    "\n",
    " <p>To undestand the example better, we have added \"borders\" to the table.</p>\n",
    "<blockquote cite=\"https://community.ibm.com/community/user/datascience/blogs/gene-azad1/2022/06/23/announcing-ibm-spss-modeler-184-ibm-spss-collabora\">\n",
    "Announcing General Availability of SPSS Modeler 18.4, SPSS Collaboration and Deployment Services 8.4, and SPSS Analytic Server 3.4\n",
    "</blockquote>\n",
    "<mark>IMPORTANT NOTICE!!</mark>\n",
    "<p>My favorite tools is <del>AWS Data Tool</del> <ins>SPSS Modeler</ins>!</p></br>\n",
    "<b>Thanks for reading this!</b>"
   ]
  },
  {
   "cell_type": "markdown",
   "metadata": {},
   "source": [
    "<center>\n",
    "    <img src=\"https://s3-api.us-geo.objectstorage.softlayer.net/cf-courses-data/CognitiveClass/Logos/organization_logo/organization_logo.png\" width=\"300\" alt=\"cognitiveclass.ai logo\"  />\n",
    "</center>\n"
   ]
  }
 ],
 "metadata": {
  "kernelspec": {
   "display_name": "Python",
   "language": "python",
   "name": "conda-env-python-py"
  },
  "language_info": {
   "codemirror_mode": {
    "name": "ipython",
    "version": 3
   },
   "file_extension": ".py",
   "mimetype": "text/x-python",
   "name": "python",
   "nbconvert_exporter": "python",
   "pygments_lexer": "ipython3",
   "version": "3.7.12"
  }
 },
 "nbformat": 4,
 "nbformat_minor": 4
}
